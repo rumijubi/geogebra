{
 "cells": [
  {
   "cell_type": "code",
   "execution_count": 10,
   "id": "d1f4fdb9-2174-4ec2-87f8-62684d019a10",
   "metadata": {},
   "outputs": [],
   "source": [
    "#### 3 change the linestyle ####\n",
    "l_a=0\n",
    "\n",
    "#### 2 change the color ####\n",
    "c_a=2\n",
    "\n",
    "#### 1 chage the variable to limit the axis ####\n",
    "x_s=-8\n",
    "x_e=7\n",
    "y_s=-105\n",
    "y_e=105\n",
    "\n",
    "#### 0 change ploting function ####\n",
    "a=100*np.cos(x)"
   ]
  },
  {
   "cell_type": "code",
   "execution_count": 11,
   "id": "b6c0ade1-e333-4e70-829f-cb81d099eb70",
   "metadata": {},
   "outputs": [],
   "source": [
    "import matplotlib.pyplot as plt\n",
    "import numpy as np\n",
    "\n",
    "#color variable\n",
    "gray_color=\"#7f7f7f\"\n",
    "primary_color=\"#0da2cc\"\n",
    "secondary_color=\"#6eb819\"\n",
    "tertiary_color=\"#fd602e\"\n",
    "black_color=\"#4c4f54\"\n",
    "white_color=\"#ffffff\"\n",
    "\n",
    "#linestyle\n",
    "solid='solid'\n",
    "ldashed=(0,(5,10))\n",
    "dashed='dashed'\n",
    "\n",
    "## notice the index of linestyle\n",
    "ls_list=[solid,ldashed,dashed]\n",
    "\n",
    "## notice the index of color\n",
    "color_list=[gray_color, primary_color,secondary_color,tertiary_color,black_color,white_color]\n",
    "\n",
    "#line-width of axis and lines\n",
    "lwa=1\n",
    "lwl=3.3\n",
    "\n",
    "# x value\n",
    "x=np.linspace(x_s,x_e,100)"
   ]
  },
  {
   "cell_type": "code",
   "execution_count": 32,
   "id": "39e684c2-67a0-4723-93d4-7c840796353c",
   "metadata": {},
   "outputs": [
    {
     "data": {
      "image/png": "[encoded data removed]",
      "text/plain": [
       "<Figure size 360x360 with 1 Axes>"
      ]
     },
     "metadata": {
      "needs_background": "light"
     },
     "output_type": "display_data"
    }
   ],
   "source": [
    "\n",
    "# size of the figure\n",
    "plt.figure(figsize=(5,5))\n",
    "\n",
    "#axes remove border\n",
    "plt.axes([0,0,1,1], frameon=False)\n",
    "\n",
    "#limit the axis\n",
    "plt.xlim([x_s,x_e])\n",
    "plt.ylim([y_s,y_e])\n",
    "\n",
    "# use set_position put axis at 0\n",
    "ax = plt.gca()\n",
    "ax.spines['top'].set_color('none')\n",
    "ax.spines['left'].set_position('zero')\n",
    "ax.spines['right'].set_color('none')\n",
    "ax.spines['bottom'].set_position('zero')\n",
    "\n",
    "#remove tick\n",
    "plt.tick_params(left=False)\n",
    "plt.tick_params(bottom=False)\n",
    "\n",
    "#color label\n",
    "plt.tick_params(colors=color_list[4])\n",
    "\n",
    "#add 0 manually\n",
    "plt.text(0-(x_e-x_s)/25,0-(y_e-y_s)/25,'0',color=color_list[4])\n",
    "\n",
    "\n",
    "#plot x axis\n",
    "plt.plot([x_s,x_e],[0,0],color=\"#4c4f54\",linewidth=lwa)\n",
    "\n",
    "# plot y axis\n",
    "plt.plot([0,0],[y_s,y_e],color=color_list[0],linewidth=lwa)\n",
    "\n",
    "#hide tick at origin\n",
    "old_ticks=ax.get_xticks()\n",
    "new_ticks=[x for x in old_ticks if x!=0]\n",
    "ax.set_xticks(new_ticks)\n",
    "old_ticks=ax.get_yticks()\n",
    "new_ticks=[y for y in old_ticks if y!=0]\n",
    "ax.set_yticks(new_ticks)\n",
    "\n",
    "\n",
    "#limit the axis again\n",
    "plt.xlim([x_s,x_e])\n",
    "plt.ylim([y_s,y_e])\n",
    "\n",
    "#plotting grid\n",
    "plt.grid(color='#c0c0c0',linestyle=ls_list[1])\n",
    "\n",
    "#plot functions\n",
    "plt.plot(x,a,color=color_list[c_a],linewidth=lwl,linestyle=ls_list[l_a],alpha=.7)\n",
    "plt.savefig('m.png')"
   ]
  },
  {
   "cell_type": "code",
   "execution_count": null,
   "id": "bd7505b9-1caa-40d0-a7a2-1b47946eeeca",
   "metadata": {},
   "outputs": [],
   "source": []
  },
  {
   "cell_type": "code",
   "execution_count": null,
   "id": "de5383ce-0885-4d58-a57e-66a4b62c5038",
   "metadata": {},
   "outputs": [],
   "source": []
  }
 ],
 "metadata": {
  "kernelspec": {
   "display_name": "Python 3 (ipykernel)",
   "language": "python",
   "name": "python3"
  },
  "language_info": {
   "codemirror_mode": {
    "name": "ipython",
    "version": 3
   },
   "file_extension": ".py",
   "mimetype": "text/x-python",
   "name": "python",
   "nbconvert_exporter": "python",
   "pygments_lexer": "ipython3",
   "version": "3.10.2"
  }
 },
 "nbformat": 4,
 "nbformat_minor": 5
}
